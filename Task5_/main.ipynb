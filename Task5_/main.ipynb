{
 "cells": [
  {
   "cell_type": "code",
   "execution_count": null,
   "id": "155d10c8",
   "metadata": {},
   "outputs": [],
   "source": [
    "!pip install ultralytics opencv-python matplotlib"
   ]
  },
  {
   "cell_type": "code",
   "execution_count": null,
   "metadata": {},
   "outputs": [],
   "source": [
    "import cv2\n",
    "import numpy as np\n",
    "import matplotlib.pyplot as plt\n",
    "from ultralytics import YOLO\n",
    "from google.colab import files"
   ]
  },
  {
   "cell_type": "code",
   "execution_count": null,
   "metadata": {},
   "outputs": [],
   "source": [
    "uploaded = files.upload()\n",
    "image_path = list(uploaded.keys())[0]"
   ]
  },
  {
   "cell_type": "code",
   "execution_count": null,
   "metadata": {},
   "outputs": [],
   "source": [
    "model = YOLO(\"yolov8x-seg.pt\")"
   ]
  },
  {
   "cell_type": "code",
   "execution_count": null,
   "id": "029876a2",
   "metadata": {},
   "outputs": [],
   "source": [
    "results = model(image_path)"
   ]
  },
  {
   "cell_type": "code",
   "execution_count": null,
   "metadata": {},
   "outputs": [],
   "source": [
    "img = cv2.imread(image_path)\n",
    "img_rgb = cv2.cvtColor(img, cv2.COLOR_BGR2RGB)"
   ]
  },
  {
   "cell_type": "code",
   "execution_count": null,
   "id": "da6c4334",
   "metadata": {},
   "outputs": [],
   "source": [
    "mask = np.zeros(img.shape[:2], dtype=np.uint8)\n",
    "\n",
    "for r in results:\n",
    "    if r.masks is None:\n",
    "        continue\n",
    "    for box, cls, seg in zip(r.boxes.xyxy, r.boxes.cls, r.masks.xy):\n",
    "        if int(cls) == 0:  # class 0 = person in COCO dataset\n",
    "            seg = np.array(seg, dtype=np.int32)\n",
    "            cv2.fillPoly(mask, [seg], 255)"
   ]
  },
  {
   "cell_type": "code",
   "execution_count": null,
   "id": "4b220a6f",
   "metadata": {},
   "outputs": [],
   "source": [
    "blurred = cv2.GaussianBlur(img, (51, 51), 30)\n",
    "final = img.copy()\n",
    "final[mask == 255] = blurred[mask == 255]\n",
    "\n",
    "final_rgb = cv2.cvtColor(final, cv2.COLOR_BGR2RGB)\n"
   ]
  },
  {
   "cell_type": "code",
   "execution_count": null,
   "id": "a6a0140c",
   "metadata": {},
   "outputs": [],
   "source": [
    "plt.figure(figsize=(15,6))\n",
    "\n",
    "plt.subplot(1,2,1)\n",
    "plt.title(\"Original Image\")\n",
    "plt.imshow(img_rgb)\n",
    "plt.axis(\"off\")\n",
    "\n",
    "plt.subplot(1,2,2)\n",
    "plt.title(\"Humans Blurred\")\n",
    "plt.imshow(final_rgb)\n",
    "plt.axis(\"off\")\n",
    "\n",
    "plt.show()"
   ]
  }
 ],
 "metadata": {
  "kernelspec": {
   "display_name": ".venv",
   "language": "python",
   "name": "python3"
  },
  "language_info": {
   "name": "python",
   "version": "3.13.7"
  }
 },
 "nbformat": 4,
 "nbformat_minor": 5
}
